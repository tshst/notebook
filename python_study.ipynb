{
 "cells": [
  {
   "cell_type": "markdown",
   "metadata": {},
   "source": [
    "## 1. 使っているPythonのバージョンを知っておく"
   ]
  },
  {
   "cell_type": "code",
   "execution_count": 1,
   "metadata": {
    "collapsed": false
   },
   "outputs": [
    {
     "name": "stdout",
     "output_type": "stream",
     "text": [
      "The Zen of Python, by Tim Peters\n",
      "\n",
      "Beautiful is better than ugly.\n",
      "Explicit is better than implicit.\n",
      "Simple is better than complex.\n",
      "Complex is better than complicated.\n",
      "Flat is better than nested.\n",
      "Sparse is better than dense.\n",
      "Readability counts.\n",
      "Special cases aren't special enough to break the rules.\n",
      "Although practicality beats purity.\n",
      "Errors should never pass silently.\n",
      "Unless explicitly silenced.\n",
      "In the face of ambiguity, refuse the temptation to guess.\n",
      "There should be one-- and preferably only one --obvious way to do it.\n",
      "Although that way may not be obvious at first unless you're Dutch.\n",
      "Now is better than never.\n",
      "Although never is often better than *right* now.\n",
      "If the implementation is hard to explain, it's a bad idea.\n",
      "If the implementation is easy to explain, it may be a good idea.\n",
      "Namespaces are one honking great idea -- let's do more of those!\n"
     ]
    }
   ],
   "source": [
    "import this"
   ]
  },
  {
   "cell_type": "code",
   "execution_count": 3,
   "metadata": {
    "collapsed": false
   },
   "outputs": [
    {
     "name": "stdout",
     "output_type": "stream",
     "text": [
      "Python 3.5.0 :: Continuum Analytics, Inc.\r\n"
     ]
    }
   ],
   "source": [
    "!python --version"
   ]
  },
  {
   "cell_type": "markdown",
   "metadata": {},
   "source": [
    "#### 使っているPythonのバージョンを実行時にsysモジュールの値を調べて確認できる"
   ]
  },
  {
   "cell_type": "code",
   "execution_count": 5,
   "metadata": {
    "collapsed": false
   },
   "outputs": [
    {
     "name": "stdout",
     "output_type": "stream",
     "text": [
      "sys.version_info(major=3, minor=5, micro=0, releaselevel='final', serial=0)\n",
      "3.5.0 |Continuum Analytics, Inc.| (default, Oct 19 2015, 21:57:25) \n",
      "[GCC 4.4.7 20120313 (Red Hat 4.4.7-1)]\n"
     ]
    }
   ],
   "source": [
    "import sys\n",
    "print(sys.version_info)\n",
    "print(sys.version)"
   ]
  },
  {
   "cell_type": "markdown",
   "metadata": {},
   "source": [
    "### 覚えておくこと\n",
    "- Pythonには、Python2とPython3という2つのバージョンが使われている\n",
    "- Pythonには、Cpython, Jython, IromPython, PyPyなど複数のランタイムがある\n",
    "- システムのコマンドラインで実行するPythonが、期待しているバージョンであることを確かめておく\n",
    "- なるべくPython3を選択する"
   ]
  },
  {
   "cell_type": "markdown",
   "metadata": {},
   "source": [
    "## 2. PEP8スタイルガイドに従う\n",
    "[https://www.python.org/dev/peps/pep-0008/](https://www.python.org/dev/peps/pep-0008/)"
   ]
  },
  {
   "cell_type": "markdown",
   "metadata": {},
   "source": [
    "### 空白\n",
    "Pythonでは、空白が構文上意味を持ちます。Pythonプログラマは、コードが明白であるために、空白の効果とその影響に特に気をつけます。\n",
    "- インデントには、タブではなく空白を使う\n",
    "- 構文上意味を持つレベルのインデントには、4個の空白を使う\n",
    "- 各行は、長さが79文字かそれ以下とする\n",
    "- 長い式を次の行に続けるときは、通常のインデントに4個の空白を追加してインデントする\n",
    "- ファイルでは、関数とクラスは、2行の空白行で分ける\n",
    "- クラスでは、メソッドは、空白行で分ける\n",
    "- リストの添字。関数呼び出し、キーワード引数代入では、前後に空白を置かない\n",
    "- 変数代入の前後には、空白を1つ、必ず１つだけを書く\n",
    "\n",
    "### 名前付け\n",
    "- 関数、変数、属性は、lowercase_underscoreのように小文字で下線を挟む\n",
    "- プロテクテッド属性は、_leading_underscoreのように下線を先頭につける\n",
    "- プライベート属性は、__double_underscoreのように下線を2つ先頭につける\n",
    "- クラスと例外は、CapitalizedWorldのように先頭を大文字にする\n",
    "- モジュールレベルの定義は、ALL_CAMPのようにすべて大文字で下線を挟む\n",
    "- クラスのインスタンスメソッドは、(オブジェクトを参照する)第1引数の名前にselfを使う\n",
    "- クラスメソッドは、(クラスを参照する)第一引数の名前にclsを使う\n",
    "\n",
    "### 式と文\n",
    "- 式全体を否定(if not a is b)するのではなく、否定判定演算子(if a is not b)を使う\n",
    "- 長さを使って(if len(somelist) == 0)空値([] や '' など)かどうかをチェックしない\n",
    "  if not somelistを使って、空値が暗黙にFalseと評価されることを使う\n",
    "- 非空値について、if somelistは、暗黙にTrueと評価される\n",
    "- 1行のif文、forとwhileのループ、except複合文を書かない\n",
    "- import文は常にファイルの先頭に置く\n",
    "- インポートするときは、常にモジュールの絶対名を使い、現モジュールのパスからの相対名を使わない\n",
    "- 相対インポートを使わなければならない時には、明示的な構文：from . import fooを使う\n",
    "- インポートは次の順序に分けて行う\n",
    "    - 標準ライブラリモジュール\n",
    "    - サードパーティのモジュール\n",
    "    - 自分のモジュール"
   ]
  },
  {
   "cell_type": "markdown",
   "metadata": {},
   "source": [
    "## 3. bytes, str, unicodeの違いを知っておく"
   ]
  },
  {
   "cell_type": "markdown",
   "metadata": {},
   "source": [
    "- Python3では、文字列を表すのにbytesとstrの2種類がある\n",
    "    - bytesのインスタンスは、生の8ビット値を含み、strのインスタンスは、Unicode文字列を含む\n",
    "- Python2では、文字列を表すのにstrとunicodeの2種類がある\n",
    "    - strのインスタンスは、生の8ビット値を含み、unicodeのインスタンスは、Unicode文字を含む\n",
    "- Unicode文字をバイナリで表すには多くの方法がある\n",
    "    - 一番多いのは、UTF-8符号化\n",
    "- 重要なのは、Pytho3のstrとPython2のunicodeインスタンスは、バイナリ符号化を伴っていない\n",
    "    - Unicode文字をバイナリデータに変換するには、メソッドencodeを使う必要がある\n",
    "    - バイナリデータをUnicode文字に変換するには、メソッドdecodeを使う必要がある\n",
    "- Pythonプログラムを書くとき、インターフェースの1番外側の境界線でUnicodeの符号化と復号化をしておくことが重要\n",
    "- Pythoコードでは次の2つの状況が生じる\n",
    "    - UTF-8の符号化の生の8ビット値を操作する\n",
    "    - 符号化を指定しないUnicode文字を操作する\n",
    "上記の2つの状況を変換して、入力値の種類がコードが期待するものとなっていることを確認する2つのヘルパー関数が必要"
   ]
  },
  {
   "cell_type": "code",
   "execution_count": 6,
   "metadata": {
    "collapsed": true
   },
   "outputs": [],
   "source": [
    "def to_str(bytes_or_str):\n",
    "    if isinstance(bytes_or_str,bytes):\n",
    "        value = bytes_or_str.decode('utf-8')\n",
    "    else:\n",
    "        value = bytes_or_str\n",
    "    return value\n",
    "            \n"
   ]
  },
  {
   "cell_type": "code",
   "execution_count": 7,
   "metadata": {
    "collapsed": true
   },
   "outputs": [],
   "source": [
    "def to_bytes(bytes_or_str):\n",
    "    if isinstance(bytes_or_str, str):\n",
    "        value = bytes_or_str\n"
   ]
  },
  {
   "cell_type": "markdown",
   "metadata": {},
   "source": [
    "### 覚えておくこと\n",
    "- Python 3では、bytesは8ビット値の列を含み、strはUnicode文字列を含む\n",
    "- bytesとstrと の イ ン ス タ ン ス は 、( > や + の よ う な )演 算 子 で 一 緒 に 使 う こ と が で き な い 。\n",
    "- Python 2では、strは8ビット値の列を含み、unicodeはUnicode文字列を含む\n",
    "- strとunicode とは、str が 7 ビット ASCII 文字だけを含むなら演算で一緒に使うことができる。\n",
    "- ヘルパー関数を使って、操作する入力が期待している(8ビット値、UTF-8符号化文字、 Unicode 文字など)文字列型になっていることを確かめる\n",
    "- ファイルにバイナリデータを読み書きするには、常に、('rb'または'wb'のような)バイナリモー ドでオープンする"
   ]
  },
  {
   "cell_type": "code",
   "execution_count": null,
   "metadata": {
    "collapsed": true
   },
   "outputs": [],
   "source": []
  }
 ],
 "metadata": {
  "kernelspec": {
   "display_name": "Python 3",
   "language": "python",
   "name": "python3"
  },
  "language_info": {
   "codemirror_mode": {
    "name": "ipython",
    "version": 3
   },
   "file_extension": ".py",
   "mimetype": "text/x-python",
   "name": "python",
   "nbconvert_exporter": "python",
   "pygments_lexer": "ipython3",
   "version": "3.5.0"
  }
 },
 "nbformat": 4,
 "nbformat_minor": 0
}
